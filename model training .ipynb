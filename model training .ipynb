{
 "cells": [
  {
   "cell_type": "code",
   "execution_count": 17,
   "metadata": {},
   "outputs": [
    {
     "name": "stdout",
     "output_type": "stream",
     "text": [
      "Requirement already satisfied: h5py in a:\\file\\python\\lib\\site-packages (3.11.0)\n",
      "Requirement already satisfied: numpy in a:\\file\\python\\lib\\site-packages (1.26.4)\n",
      "Requirement already satisfied: scikit-learn in a:\\file\\python\\lib\\site-packages (1.4.2)\n"
     ]
    },
    {
     "name": "stderr",
     "output_type": "stream",
     "text": [
      "ERROR: Could not find a version that satisfies the requirement time (from versions: none)\n",
      "ERROR: No matching distribution found for time\n",
      "WARNING: You are using pip version 21.2.4; however, version 24.0 is available.\n",
      "You should consider upgrading via the 'A:\\File\\Python\\python.exe -m pip install --upgrade pip' command.\n"
     ]
    }
   ],
   "source": [
    "!pip install h5py numpy scikit-learn time"
   ]
  },
  {
   "cell_type": "code",
   "execution_count": 2,
   "metadata": {},
   "outputs": [],
   "source": [
    "############################################## percobaan model\n",
    "\n",
    "import h5py\n",
    "import numpy as np\n",
    "from sklearn.model_selection import train_test_split\n",
    "from sklearn.ensemble import RandomForestClassifier\n",
    "from sklearn.metrics import accuracy_score\n",
    "\n",
    "# Path untuk file HDF5\n",
    "hdf5_file = 'features.h5'\n",
    "\n",
    "# Fungsi untuk memuat fitur dan label dari file HDF5\n",
    "def load_features_from_hdf5(hdf5_file):\n",
    "    with h5py.File(hdf5_file, 'r') as hf:\n",
    "        features = np.array(hf.get('features'))\n",
    "        labels = np.array(hf.get('labels'))\n",
    "    return features, labels\n",
    "\n",
    "# Memuat fitur dan label dari file HDF5\n",
    "features, labels = load_features_from_hdf5(hdf5_file)\n",
    "\n",
    "# Membagi dataset menjadi data latih dan data uji\n",
    "X_train, X_test, y_train, y_test = train_test_split(features, labels, test_size=0.2, random_state=42)"
   ]
  },
  {
   "cell_type": "code",
   "execution_count": 3,
   "metadata": {},
   "outputs": [
    {
     "name": "stdout",
     "output_type": "stream",
     "text": [
      "Dimensi fitur: (4225, 25088)\n",
      "Contoh fitur:\n",
      "[[ 0.        0.        0.       ...  0.        9.658791  0.      ]\n",
      " [ 0.        0.        0.       ...  0.        9.440987  0.      ]\n",
      " [ 0.        0.        0.       ...  0.       15.509188  0.      ]\n",
      " [ 0.        0.        0.       ...  0.       13.811828  0.      ]\n",
      " [ 0.        0.        0.       ...  0.       10.578276  0.      ]]\n",
      "Contoh label:\n",
      "[b'cataract' b'cataract' b'cataract' b'cataract' b'cataract' b'cataract'\n",
      " b'cataract' b'cataract' b'cataract' b'cataract']\n",
      "Jumlah baris fitur cocok dengan jumlah label.\n"
     ]
    }
   ],
   "source": [
    "# Memuat fitur dan label dari file HDF5\n",
    "features, labels = load_features_from_hdf5(hdf5_file)\n",
    "\n",
    "# Mengecek dimensi fitur\n",
    "print(\"Dimensi fitur:\", features.shape)  # Periksa jumlah baris dan kolom fitur\n",
    "\n",
    "# Melihat beberapa contoh fitur\n",
    "print(\"Contoh fitur:\")\n",
    "print(features[:5])  # Melihat lima baris pertama dari fitur\n",
    "\n",
    "# Melihat beberapa contoh label\n",
    "print(\"Contoh label:\")\n",
    "print(labels[:10])  # Melihat lima label pertama\n",
    "\n",
    "# Memeriksa apakah jumlah baris fitur cocok dengan jumlah label\n",
    "assert len(features) == len(labels), \"Jumlah baris fitur tidak sama dengan jumlah label\"\n",
    "print(\"Jumlah baris fitur cocok dengan jumlah label.\")\n"
   ]
  },
  {
   "cell_type": "code",
   "execution_count": 5,
   "metadata": {},
   "outputs": [
    {
     "data": {
      "image/png": "[encoded data removed]",
      "text/plain": [
       "<Figure size 1000x500 with 1 Axes>"
      ]
     },
     "metadata": {},
     "output_type": "display_data"
    }
   ],
   "source": [
    "import matplotlib.pyplot as plt\n",
    "\n",
    "# Menghitung jumlah data untuk setiap kelas dalam data latih dan data uji\n",
    "train_class_distribution = {label: sum(y_train == label) for label in set(y_train)}\n",
    "test_class_distribution = {label: sum(y_test == label) for label in set(y_test)}\n",
    "\n",
    "# Plot histogram\n",
    "plt.figure(figsize=(10, 5))\n",
    "plt.bar(train_class_distribution.keys(), train_class_distribution.values(), alpha=0.5, label='Data Latih')\n",
    "plt.bar(test_class_distribution.keys(), test_class_distribution.values(), alpha=0.5, label='Data Uji')\n",
    "plt.xlabel('Kelas')\n",
    "plt.ylabel('Jumlah Data')\n",
    "plt.title('Distribusi Jumlah Data untuk Setiap Kelas')\n",
    "plt.legend()\n",
    "plt.show()\n"
   ]
  },
  {
   "cell_type": "code",
   "execution_count": 19,
   "metadata": {},
   "outputs": [
    {
     "data": {
      "text/plain": [
       "{b'glaucoma': 815,\n",
       " b'cataract': 813,\n",
       " b'diabetic_retinopathy': 873,\n",
       " b'normal': 879}"
      ]
     },
     "execution_count": 19,
     "metadata": {},
     "output_type": "execute_result"
    }
   ],
   "source": [
    "train_class_distribution\n"
   ]
  },
  {
   "cell_type": "code",
   "execution_count": 18,
   "metadata": {},
   "outputs": [
    {
     "data": {
      "text/plain": [
       "{b'glaucoma': 192,\n",
       " b'cataract': 229,\n",
       " b'diabetic_retinopathy': 225,\n",
       " b'normal': 199}"
      ]
     },
     "execution_count": 18,
     "metadata": {},
     "output_type": "execute_result"
    }
   ],
   "source": [
    "test_class_distribution"
   ]
  },
  {
   "cell_type": "markdown",
   "metadata": {},
   "source": [
    "### RANDOM FOREST"
   ]
  },
  {
   "cell_type": "code",
   "execution_count": 10,
   "metadata": {},
   "outputs": [
    {
     "name": "stdout",
     "output_type": "stream",
     "text": [
      "Mulai pelatihan model...\n",
      "Pelatihan model selesai dalam waktu: 28.71 detik\n",
      "Mulai prediksi...\n",
      "Prediksi selesai dalam waktu: 0.10 detik\n",
      "Akurasi model Random Forest setelah encoding: 0.8852071005917159\n"
     ]
    }
   ],
   "source": [
    "import time\n",
    "from sklearn.preprocessing import LabelEncoder\n",
    "from sklearn.ensemble import RandomForestClassifier\n",
    "from sklearn.metrics import accuracy_score\n",
    "\n",
    "# Inisialisasi LabelEncoder\n",
    "label_encoder = LabelEncoder()\n",
    "\n",
    "# Konversi label menjadi tipe data numerik\n",
    "y_train_encoded = label_encoder.fit_transform(y_train)\n",
    "y_test_encoded = label_encoder.transform(y_test)\n",
    "\n",
    "# Melatih model menggunakan Random Forest\n",
    "rf_model = RandomForestClassifier(n_estimators=100, random_state=42)\n",
    "\n",
    "print(\"Mulai pelatihan model...\")\n",
    "start_time = time.time()\n",
    "rf_model.fit(X_train, y_train_encoded)\n",
    "end_time = time.time()\n",
    "print(\"Pelatihan model selesai dalam waktu: {:.2f} detik\".format(end_time - start_time))\n",
    "\n",
    "# Memprediksi kelas untuk data uji\n",
    "print(\"Mulai prediksi...\")\n",
    "start_time = time.time()\n",
    "y_pred_encoded = rf_model.predict(X_test)\n",
    "end_time = time.time()\n",
    "print(\"Prediksi selesai dalam waktu: {:.2f} detik\".format(end_time - start_time))\n",
    "\n",
    "# Hitung akurasi model\n",
    "randomforest_model_accuracy = accuracy_score(y_test_encoded, y_pred_encoded)\n",
    "print(\"Akurasi model Random Forest setelah encoding:\", randomforest_model_accuracy)\n"
   ]
  },
  {
   "cell_type": "markdown",
   "metadata": {},
   "source": [
    "###   DECISION TREE"
   ]
  },
  {
   "cell_type": "code",
   "execution_count": 4,
   "metadata": {},
   "outputs": [],
   "source": [
    "from sklearn.tree import DecisionTreeClassifier\n",
    "\n",
    "# Inisialisasi model Decision Tree\n",
    "dt_model = DecisionTreeClassifier(random_state=42)"
   ]
  },
  {
   "cell_type": "code",
   "execution_count": 5,
   "metadata": {},
   "outputs": [
    {
     "name": "stdout",
     "output_type": "stream",
     "text": [
      "Mulai pelatihan model Decision Tree...\n",
      "Pelatihan model Decision Tree selesai dalam waktu: 65.92 detik\n",
      "Mulai prediksi dengan model Decision Tree...\n",
      "Prediksi dengan model Decision Tree selesai dalam waktu: 0.04 detik\n",
      "Akurasi model Decision Tree setelah encoding: 0.7739644970414201\n"
     ]
    }
   ],
   "source": [
    "import time\n",
    "from sklearn.preprocessing import LabelEncoder\n",
    "from sklearn.metrics import accuracy_score\n",
    "\n",
    "# Inisialisasi LabelEncoder\n",
    "label_encoder = LabelEncoder()\n",
    "\n",
    "\n",
    "######### ubah tipe data numerik # Konversi label menjadi tipe data numerik\n",
    "y_train_encoded = label_encoder.fit_transform(y_train)\n",
    "y_test_encoded = label_encoder.transform(y_test)\n",
    "\n",
    "\n",
    "print(\"Mulai pelatihan model Decision Tree...\")\n",
    "start_time = time.time()\n",
    "dt_model.fit(X_train, y_train_encoded)\n",
    "end_time = time.time()\n",
    "print(\"Pelatihan model Decision Tree selesai dalam waktu: {:.2f} detik\".format(end_time - start_time))\n",
    "\n",
    "# Memprediksi kelas untuk data uji\n",
    "print(\"Mulai prediksi dengan model Decision Tree...\")\n",
    "start_time = time.time()\n",
    "y_pred_dt_encoded = dt_model.predict(X_test)\n",
    "end_time = time.time()\n",
    "print(\"Prediksi dengan model Decision Tree selesai dalam waktu: {:.2f} detik\".format(end_time - start_time))\n",
    "\n",
    "# Hitung akurasi model Decision Tree\n",
    "decisiontree_model_accuracy = accuracy_score(y_test_encoded, y_pred_dt_encoded)\n",
    "print(\"Akurasi model Decision Tree setelah encoding:\", decisiontree_model_accuracy)\n"
   ]
  },
  {
   "cell_type": "markdown",
   "metadata": {},
   "source": [
    "### KNN"
   ]
  },
  {
   "cell_type": "code",
   "execution_count": 6,
   "metadata": {},
   "outputs": [
    {
     "name": "stdout",
     "output_type": "stream",
     "text": [
      "Mulai pelatihan model KNN...\n",
      "Pelatihan model KNN selesai dalam waktu: 0.21 detik\n",
      "Mulai prediksi dengan model KNN...\n",
      "Prediksi dengan model KNN selesai dalam waktu: 5.34 detik\n",
      "Akurasi model KNN setelah encoding: 0.8272189349112427\n"
     ]
    }
   ],
   "source": [
    "import time\n",
    "from sklearn.preprocessing import LabelEncoder\n",
    "from sklearn.neighbors import KNeighborsClassifier\n",
    "from sklearn.metrics import accuracy_score\n",
    "\n",
    "# Inisialisasi LabelEncoder\n",
    "label_encoder = LabelEncoder()\n",
    "\n",
    "# Konversi label menjadi tipe data numerik\n",
    "y_train_encoded = label_encoder.fit_transform(y_train)\n",
    "y_test_encoded = label_encoder.transform(y_test)\n",
    "\n",
    "# Melatih model menggunakan K-Nearest Neighbors\n",
    "knn_model = KNeighborsClassifier(n_neighbors=5)\n",
    "\n",
    "print(\"Mulai pelatihan model KNN...\")\n",
    "start_time = time.time()\n",
    "knn_model.fit(X_train, y_train_encoded)\n",
    "end_time = time.time()\n",
    "print(\"Pelatihan model KNN selesai dalam waktu: {:.2f} detik\".format(end_time - start_time))\n",
    "\n",
    "# Memprediksi kelas untuk data uji\n",
    "print(\"Mulai prediksi dengan model KNN...\")\n",
    "start_time = time.time()\n",
    "y_pred_encoded_knn = knn_model.predict(X_test)\n",
    "end_time = time.time()\n",
    "print(\"Prediksi dengan model KNN selesai dalam waktu: {:.2f} detik\".format(end_time - start_time))\n",
    "\n",
    "# Hitung akurasi model KNN\n",
    "knn_model_accuracy = accuracy_score(y_test_encoded, y_pred_encoded_knn)\n",
    "print(\"Akurasi model KNN setelah encoding:\", knn_model_accuracy)\n"
   ]
  },
  {
   "cell_type": "markdown",
   "metadata": {},
   "source": [
    "### PERBANDINGAN AKURASI"
   ]
  },
  {
   "cell_type": "code",
   "execution_count": 7,
   "metadata": {},
   "outputs": [
    {
     "name": "stdout",
     "output_type": "stream",
     "text": [
      "Requirement already satisfied: seaborn in a:\\file\\python\\lib\\site-packages (0.13.2)\n",
      "Requirement already satisfied: numpy!=1.24.0,>=1.20 in a:\\file\\python\\lib\\site-packages (from seaborn) (1.26.4)\n",
      "Requirement already satisfied: pandas>=1.2 in a:\\file\\python\\lib\\site-packages (from seaborn) (2.2.1)\n",
      "Requirement already satisfied: matplotlib!=3.6.1,>=3.4 in a:\\file\\python\\lib\\site-packages (from seaborn) (3.8.4)\n",
      "Requirement already satisfied: contourpy>=1.0.1 in a:\\file\\python\\lib\\site-packages (from matplotlib!=3.6.1,>=3.4->seaborn) (1.2.1)\n",
      "Requirement already satisfied: python-dateutil>=2.7 in c:\\users\\mukti\\appdata\\roaming\\python\\python310\\site-packages (from matplotlib!=3.6.1,>=3.4->seaborn) (2.9.0.post0)\n",
      "Requirement already satisfied: pyparsing>=2.3.1 in a:\\file\\python\\lib\\site-packages (from matplotlib!=3.6.1,>=3.4->seaborn) (3.1.2)\n",
      "Requirement already satisfied: cycler>=0.10 in a:\\file\\python\\lib\\site-packages (from matplotlib!=3.6.1,>=3.4->seaborn) (0.12.1)\n",
      "Requirement already satisfied: fonttools>=4.22.0 in a:\\file\\python\\lib\\site-packages (from matplotlib!=3.6.1,>=3.4->seaborn) (4.51.0)\n",
      "Requirement already satisfied: packaging>=20.0 in a:\\file\\python\\lib\\site-packages (from matplotlib!=3.6.1,>=3.4->seaborn) (23.2)\n",
      "Requirement already satisfied: pillow>=8 in a:\\file\\python\\lib\\site-packages (from matplotlib!=3.6.1,>=3.4->seaborn) (10.3.0)\n",
      "Requirement already satisfied: kiwisolver>=1.3.1 in a:\\file\\python\\lib\\site-packages (from matplotlib!=3.6.1,>=3.4->seaborn) (1.4.5)\n",
      "Requirement already satisfied: pytz>=2020.1 in a:\\file\\python\\lib\\site-packages (from pandas>=1.2->seaborn) (2024.1)\n",
      "Requirement already satisfied: tzdata>=2022.7 in a:\\file\\python\\lib\\site-packages (from pandas>=1.2->seaborn) (2024.1)\n",
      "Requirement already satisfied: six>=1.5 in c:\\users\\mukti\\appdata\\roaming\\python\\python310\\site-packages (from python-dateutil>=2.7->matplotlib!=3.6.1,>=3.4->seaborn) (1.16.0)\n"
     ]
    },
    {
     "name": "stderr",
     "output_type": "stream",
     "text": [
      "WARNING: You are using pip version 21.2.4; however, version 24.0 is available.\n",
      "You should consider upgrading via the 'A:\\File\\Python\\python.exe -m pip install --upgrade pip' command.\n"
     ]
    }
   ],
   "source": [
    "!pip install seaborn"
   ]
  },
  {
   "cell_type": "code",
   "execution_count": 18,
   "metadata": {},
   "outputs": [
    {
     "data": {
      "image/png": "[encoded data removed]",
      "text/plain": [
       "<Figure size 1000x600 with 1 Axes>"
      ]
     },
     "metadata": {},
     "output_type": "display_data"
    }
   ],
   "source": [
    "import matplotlib.pyplot as plt\n",
    "import seaborn as sns\n",
    "\n",
    "rf_accuracy = randomforest_model_accuracy\n",
    "knn_accuracy = knn_model_accuracy\n",
    "dt_accuracy = decisiontree_model_accuracy\n",
    "\n",
    "# Labels dan akurasi untuk masing-masing model\n",
    "models = ['Random Forest', 'K-Nearest Neighbors', 'Decision Tree']\n",
    "accuracies = [rf_accuracy, knn_accuracy, dt_accuracy]\n",
    "\n",
    "# **Memilih warna yang diinginkan**\n",
    "# colors = ['rgb(64, 67, 135)', 'rgb(41, 120, 142)', 'rgb(34, 167, 132)']\n",
    "colors = [(0.64, 0.67, 0.53), (0.41, 0.75, 0.88), (0.21, 1.0, 0.82)]\n",
    "\n",
    "\n",
    "# Membuat bar chart\n",
    "plt.figure(figsize=(10, 6))\n",
    "plt.bar(models, accuracies, color=colors)\n",
    "\n",
    "# Menambahkan judul dan label sumbu\n",
    "plt.title('Perbandingan Akurasi Model')\n",
    "plt.xlabel('Model')\n",
    "plt.ylabel('Akurasi')\n",
    "\n",
    "# Menampilkan nilai akurasi di atas bar\n",
    "for i, v in enumerate(accuracies):\n",
    "    plt.text(i, v + 0.01, f\"{v:.4f}\", ha='center', va='bottom')\n",
    "\n",
    "# Menampilkan plot\n",
    "plt.ylim(0, 1)  # Mengatur batas y-axis dari 0 hingga 1 untuk memperjelas akurasi\n",
    "plt.show()\n"
   ]
  },
  {
   "cell_type": "markdown",
   "metadata": {},
   "source": [
    "### TEKNIK RANDOM FOREST MEMBERIKAN AKURASI TERTINGGI YAITU 88,5%"
   ]
  }
 ],
 "metadata": {
  "kernelspec": {
   "display_name": "Python 3",
   "language": "python",
   "name": "python3"
  },
  "language_info": {
   "codemirror_mode": {
    "name": "ipython",
    "version": 3
   },
   "file_extension": ".py",
   "mimetype": "text/x-python",
   "name": "python",
   "nbconvert_exporter": "python",
   "pygments_lexer": "ipython3",
   "version": "3.10.1"
  },
  "orig_nbformat": 4
 },
 "nbformat": 4,
 "nbformat_minor": 2
}
